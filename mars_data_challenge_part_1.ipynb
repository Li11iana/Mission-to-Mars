{
 "cells": [
  {
   "cell_type": "markdown",
   "metadata": {},
   "source": [
    "# Deliverable 1: \n",
    "Scrape titles and preview text from Mars news articles. Optionally export the data into a JSON file or a MongoDB database."
   ]
  },
  {
   "cell_type": "code",
   "execution_count": 1,
   "metadata": {},
   "outputs": [],
   "source": [
    "# Scrape the Mars News Links to an external site.website by using Splinter and Beautiful Soup. \n",
    "# Specifically, scrape the title and preview text, or summary text, of each article on the landing page."
   ]
  },
  {
   "cell_type": "code",
   "execution_count": 1,
   "metadata": {},
   "outputs": [
    {
     "name": "stderr",
     "output_type": "stream",
     "text": [
      "[WDM] - Downloading: 100%|██████████| 6.46M/6.46M [00:00<00:00, 35.4MB/s]\n"
     ]
    }
   ],
   "source": [
    "from splinter import Browser\n",
    "from bs4 import BeautifulSoup as soup\n",
    "from webdriver_manager.chrome import ChromeDriverManager\n",
    "\n",
    "executable_path = {'executable_path': ChromeDriverManager().install()}\n",
    "browser = Browser('chrome', **executable_path, headless=False)\n",
    "\n",
    "url = 'https://redplanetscience.com/'\n",
    "browser.visit(url)\n",
    "html = browser.html\n",
    "mars_soup = soup(html, 'html.parser')"
   ]
  },
  {
   "cell_type": "code",
   "execution_count": 2,
   "metadata": {},
   "outputs": [
    {
     "data": {
      "text/plain": [
       "True"
      ]
     },
     "execution_count": 2,
     "metadata": {},
     "output_type": "execute_result"
    }
   ],
   "source": [
    "# Check element identified with Chrome DevTools exists\n",
    "browser.is_element_present_by_css('div.list_text', wait_time=1)"
   ]
  },
  {
   "cell_type": "code",
   "execution_count": 3,
   "metadata": {},
   "outputs": [],
   "source": [
    "# News article parent element\n",
    "article = mars_soup.select_one('div.list_text')"
   ]
  },
  {
   "cell_type": "code",
   "execution_count": 10,
   "metadata": {},
   "outputs": [
    {
     "name": "stdout",
     "output_type": "stream",
     "text": [
      "<div class=\"list_text\">\n",
      "<div class=\"list_date\">November 24, 2022</div>\n",
      "<div class=\"content_title\">Two Rovers to Roll on Mars Again: Curiosity and Mars 2020</div>\n",
      "<div class=\"article_teaser_body\">They look like twins. But under the hood, the rover currently exploring the Red Planet and the one launching there this summer have distinct science tools and roles to play.</div>\n",
      "</div>\n"
     ]
    }
   ],
   "source": [
    "print(article)"
   ]
  },
  {
   "cell_type": "code",
   "execution_count": 5,
   "metadata": {},
   "outputs": [
    {
     "name": "stdout",
     "output_type": "stream",
     "text": [
      "Two Rovers to Roll on Mars Again: Curiosity and Mars 2020\n"
     ]
    }
   ],
   "source": [
    "# retrieve article title\n",
    "art_title = article.find('div', class_='content_title').text\n",
    "print(art_title)"
   ]
  },
  {
   "cell_type": "code",
   "execution_count": 6,
   "metadata": {},
   "outputs": [
    {
     "name": "stdout",
     "output_type": "stream",
     "text": [
      "They look like twins. But under the hood, the rover currently exploring the Red Planet and the one launching there this summer have distinct science tools and roles to play.\n"
     ]
    }
   ],
   "source": [
    "#  retrieve article content\n",
    "art_content = article.find('div', class_='article_teaser_body').text\n",
    "print(art_content)"
   ]
  },
  {
   "cell_type": "code",
   "execution_count": 7,
   "metadata": {},
   "outputs": [],
   "source": [
    "# article title + content dictionary\n",
    "mars_article = {}\n",
    "mars_article[art_title] = art_content"
   ]
  },
  {
   "cell_type": "code",
   "execution_count": 8,
   "metadata": {},
   "outputs": [
    {
     "data": {
      "text/plain": [
       "{'Two Rovers to Roll on Mars Again: Curiosity and Mars 2020': 'They look like twins. But under the hood, the rover currently exploring the Red Planet and the one launching there this summer have distinct science tools and roles to play.'}"
      ]
     },
     "execution_count": 8,
     "metadata": {},
     "output_type": "execute_result"
    }
   ],
   "source": [
    "mars_article"
   ]
  },
  {
   "cell_type": "code",
   "execution_count": 9,
   "metadata": {},
   "outputs": [
    {
     "name": "stdout",
     "output_type": "stream",
     "text": [
      "{'title': 'Two Rovers to Roll on Mars Again: Curiosity and Mars 2020', 'preview': 'They look like twins. But under the hood, the rover currently exploring the Red Planet and the one launching there this summer have distinct science tools and roles to play.'}\n"
     ]
    }
   ],
   "source": [
    "# alternative dictionary\n",
    "mars_dic = {}\n",
    "mars_dic['title'] = art_title\n",
    "mars_dic['preview'] = art_content\n",
    "print(mars_dic)"
   ]
  },
  {
   "cell_type": "markdown",
   "metadata": {},
   "source": [
    "## Retriving all first page news articles in a dictionary (title : preview)"
   ]
  },
  {
   "cell_type": "code",
   "execution_count": 42,
   "metadata": {},
   "outputs": [],
   "source": [
    "#Iterating through news section appending each title and preview to the dictionary\n",
    "mars_news = {}\n",
    "news = mars_soup.find_all('div', class_='list_text')\n",
    "for element in news:\n",
    "    news_title = element.find('div', class_='content_title').text\n",
    "    news_preview = element.find('div', class_='article_teaser_body').text\n",
    "    mars_news[news_title] = news_preview\n"
   ]
  },
  {
   "cell_type": "code",
   "execution_count": 43,
   "metadata": {},
   "outputs": [
    {
     "data": {
      "text/plain": [
       "{'Two Rovers to Roll on Mars Again: Curiosity and Mars 2020': 'They look like twins. But under the hood, the rover currently exploring the Red Planet and the one launching there this summer have distinct science tools and roles to play.',\n",
       " 'Naming a NASA Mars Rover Can Change Your Life': 'Want to name the robotic scientist NASA is sending to Mars in 2020? The student who named Curiosity — the rover currently exploring Mars — will tell you this is an opportunity worth taking.',\n",
       " 'Global Storms on Mars Launch Dust Towers Into the Sky': 'A Mars Dust Tower Stands Out Dust storms are common on Mars. But every decade or so, something unpredictable happens: a series of runaway storms break out, covering the entire planet in a dusty haze.',\n",
       " 'Two of a Space Kind: Apollo 12 and Mars 2020': 'Apollo 12 and the upcoming Mars 2020 mission may be separated by half a century, but they share several goals unique in the annals of space exploration.',\n",
       " \"NASA's Perseverance Rover Will Look at Mars Through These 'Eyes'\": 'A pair of zoomable cameras will help scientists and rover drivers with high-resolution color images.',\n",
       " '7 Things to Know About the Mars 2020 Perseverance Rover Mission': \"NASA's next rover to the Red Planet is slated to launch no earlier than July 30. These highlights will get you up to speed on the ambitious mission.\",\n",
       " \"NASA's Mars Reconnaissance Orbiter Undergoes Memory Update\": 'Other orbiters will continue relaying data from Mars surface missions for a two-week period.',\n",
       " 'NASA Invites Students to Name Mars 2020 Rover': \"Through Nov. 1, K-12 students in the U.S. are encouraged to enter an essay contest to name NASA's next Mars rover.\",\n",
       " \"Follow NASA's Perseverance Rover in Real Time on Its Way to Mars\": \"A crisply rendered web application can show you where the agency's Mars 2020 mission is right now as it makes its way to the Red Planet for a Feb. 18, 2021, landing.\",\n",
       " 'Mars Is Getting a New Robotic Meteorologist': \"Sensors on NASA's Perseverance will help prepare for future human exploration by taking weather measurements and studying dust particles.\",\n",
       " \"NASA Wins 4 Webbys, 4 People's Voice Awards\": 'Winners include the JPL-managed \"Send Your Name to Mars\" campaign, NASA\\'s Global Climate Change website and Solar System Interactive.',\n",
       " \"NASA's Mars Helicopter Attached to Mars 2020 Rover \": 'The helicopter will be first aircraft to perform flight tests on another planet.',\n",
       " \"How NASA's Perseverance Mars Team Adjusted to Work in the Time of Coronavirus \": 'Like much of the rest of the world, the Mars rover team is pushing forward with its mission-critical work while putting the health and safety of their colleagues and community first.',\n",
       " 'Scientists Explore Outback as Testbed for Mars ': \"Australia provides a great place for NASA's Mars 2020 and the ESA-Roscosmos ExoMars scientists to hone techniques in preparation for searching for signs ancient life on Mars.\",\n",
       " \"HiRISE Views NASA's InSight and Curiosity on Mars\": 'New images taken from space offer the clearest orbital glimpse yet of InSight as well as a view of Curiosity rolling along.'}"
      ]
     },
     "execution_count": 43,
     "metadata": {},
     "output_type": "execute_result"
    }
   ],
   "source": [
    "mars_news"
   ]
  },
  {
   "cell_type": "markdown",
   "metadata": {},
   "source": [
    "## BONUS"
   ]
  },
  {
   "cell_type": "code",
   "execution_count": 54,
   "metadata": {},
   "outputs": [],
   "source": [
    "# To do so, export the scraped data to either  a JSON file or a MongoDB database\n",
    "import json\n",
    "\n",
    "mars_news_json = json.dumps(mars_news)\n"
   ]
  },
  {
   "cell_type": "code",
   "execution_count": 55,
   "metadata": {},
   "outputs": [
    {
     "name": "stdout",
     "output_type": "stream",
     "text": [
      "{\"Two Rovers to Roll on Mars Again: Curiosity and Mars 2020\": \"They look like twins. But under the hood, the rover currently exploring the Red Planet and the one launching there this summer have distinct science tools and roles to play.\", \"Naming a NASA Mars Rover Can Change Your Life\": \"Want to name the robotic scientist NASA is sending to Mars in 2020? The student who named Curiosity \\u2014 the rover currently exploring Mars \\u2014 will tell you this is an opportunity worth taking.\", \"Global Storms on Mars Launch Dust Towers Into the Sky\": \"A Mars Dust Tower Stands Out Dust storms are common on Mars. But every decade or so, something unpredictable happens: a series of runaway storms break out, covering the entire planet in a dusty haze.\", \"Two of a Space Kind: Apollo 12 and Mars 2020\": \"Apollo 12 and the upcoming Mars 2020 mission may be separated by half a century, but they share several goals unique in the annals of space exploration.\", \"NASA's Perseverance Rover Will Look at Mars Through These 'Eyes'\": \"A pair of zoomable cameras will help scientists and rover drivers with high-resolution color images.\", \"7 Things to Know About the Mars 2020 Perseverance Rover Mission\": \"NASA's next rover to the Red Planet is slated to launch no earlier than July 30. These highlights will get you up to speed on the ambitious mission.\", \"NASA's Mars Reconnaissance Orbiter Undergoes Memory Update\": \"Other orbiters will continue relaying data from Mars surface missions for a two-week period.\", \"NASA Invites Students to Name Mars 2020 Rover\": \"Through Nov. 1, K-12 students in the U.S. are encouraged to enter an essay contest to name NASA's next Mars rover.\", \"Follow NASA's Perseverance Rover in Real Time on Its Way to Mars\": \"A crisply rendered web application can show you where the agency's Mars 2020 mission is right now as it makes its way to the Red Planet for a Feb. 18, 2021, landing.\", \"Mars Is Getting a New Robotic Meteorologist\": \"Sensors on NASA's Perseverance will help prepare for future human exploration by taking weather measurements and studying dust particles.\", \"NASA Wins 4 Webbys, 4 People's Voice Awards\": \"Winners include the JPL-managed \\\"Send Your Name to Mars\\\" campaign, NASA's Global Climate Change website and Solar System Interactive.\", \"NASA's Mars Helicopter Attached to Mars 2020 Rover \": \"The helicopter will be first aircraft to perform flight tests on another planet.\", \"How NASA's Perseverance Mars Team Adjusted to Work in the Time of Coronavirus \": \"Like much of the rest of the world, the Mars rover team is pushing forward with its mission-critical work while putting the health and safety of their colleagues and community first.\", \"Scientists Explore Outback as Testbed for Mars \": \"Australia provides a great place for NASA's Mars 2020 and the ESA-Roscosmos ExoMars scientists to hone techniques in preparation for searching for signs ancient life on Mars.\", \"HiRISE Views NASA's InSight and Curiosity on Mars\": \"New images taken from space offer the clearest orbital glimpse yet of InSight as well as a view of Curiosity rolling along.\"}\n"
     ]
    }
   ],
   "source": [
    "# print json object\n",
    "print(mars_news_json)"
   ]
  }
 ],
 "metadata": {
  "kernelspec": {
   "display_name": "Python 3.8.13 ('PythonData')",
   "language": "python",
   "name": "python3"
  },
  "language_info": {
   "codemirror_mode": {
    "name": "ipython",
    "version": 3
   },
   "file_extension": ".py",
   "mimetype": "text/x-python",
   "name": "python",
   "nbconvert_exporter": "python",
   "pygments_lexer": "ipython3",
   "version": "3.8.13"
  },
  "orig_nbformat": 4,
  "vscode": {
   "interpreter": {
    "hash": "1d4df0d875431911401e7c982e0998058bf4a8a54a64b87c12243b5860c4233e"
   }
  }
 },
 "nbformat": 4,
 "nbformat_minor": 2
}
